{
 "cells": [
  {
   "cell_type": "markdown",
   "metadata": {},
   "source": [
    "### This script is designed to train surrogate models for OpenFAST.\n",
    "* The script reads the OpenFAST file and loads it into a dataframe\n",
    "* Data is separated into training, validation and testing datasets\n",
    "* Features are selected based on previous data analysis and context knowledge\n",
    "* MLR model is trained on the training and tested on validation\n",
    "* ANN model is trained on the training features. \n",
    "* Model hyperparameter refinement and learning protocols are defined using training/validation data\n",
    "* results for both MLR and ANN are reported on the testing data (previously unused for all steps above)"
   ]
  },
  {
   "cell_type": "code",
   "execution_count": 1,
   "metadata": {},
   "outputs": [],
   "source": [
    "import numpy as np\n",
    "import matplotlib.pyplot as plt\n",
    "import seaborn as sns\n",
    "import pandas as pd\n",
    "import glob\n",
    "import time\n",
    "\n",
    "# packages for MLR\n",
    "from sklearn import linear_model\n",
    "\n",
    "import warnings\n",
    "# warnings.simplefilter(action='ignore', category=FutureWarning)\n",
    "\n",
    "# packages we need for the Neural Net\n",
    "from keras.models import Sequential\n",
    "from keras.layers import Dense, LSTM\n",
    "from sklearn.preprocessing import MinMaxScaler\n",
    "from keras.models import model_from_json\n",
    "from IPython.display import clear_output\n",
    "from keras import callbacks\n",
    "\n",
    "from sklearn.model_selection import train_test_split\n",
    "from sklearn.metrics import r2_score"
   ]
  },
  {
   "cell_type": "code",
   "execution_count": 2,
   "metadata": {},
   "outputs": [],
   "source": [
    "# choose the file location for the relevant OpenFAST run\n",
    "filePath = './Umean_11_TI_0-151_Hs_1-8_Tp_9-1_TL_9000_w_controller.csv'\n",
    "df_new = pd.read_csv(filePath, header=0)\n",
    "df_new = df_new.astype(float)\n",
    "df_new = df_new.set_index('Time')"
   ]
  },
  {
   "cell_type": "code",
   "execution_count": 3,
   "metadata": {},
   "outputs": [
    {
     "data": {
      "text/html": [
       "<div>\n",
       "<style scoped>\n",
       "    .dataframe tbody tr th:only-of-type {\n",
       "        vertical-align: middle;\n",
       "    }\n",
       "\n",
       "    .dataframe tbody tr th {\n",
       "        vertical-align: top;\n",
       "    }\n",
       "\n",
       "    .dataframe thead th {\n",
       "        text-align: right;\n",
       "    }\n",
       "</style>\n",
       "<table border=\"1\" class=\"dataframe\">\n",
       "  <thead>\n",
       "    <tr style=\"text-align: right;\">\n",
       "      <th></th>\n",
       "      <th>Surge Vel</th>\n",
       "      <th>Heave Vel</th>\n",
       "      <th>Pitch Vel</th>\n",
       "      <th>Pitch Accel</th>\n",
       "      <th>Pitch</th>\n",
       "      <th>Windspeed</th>\n",
       "      <th>Thrust</th>\n",
       "    </tr>\n",
       "    <tr>\n",
       "      <th>Time</th>\n",
       "      <th></th>\n",
       "      <th></th>\n",
       "      <th></th>\n",
       "      <th></th>\n",
       "      <th></th>\n",
       "      <th></th>\n",
       "      <th></th>\n",
       "    </tr>\n",
       "  </thead>\n",
       "  <tbody>\n",
       "    <tr>\n",
       "      <th>0.000</th>\n",
       "      <td>0.000000</td>\n",
       "      <td>0.000000</td>\n",
       "      <td>0.000000</td>\n",
       "      <td>-0.1227</td>\n",
       "      <td>0.000000</td>\n",
       "      <td>12.42</td>\n",
       "      <td>2.386844e+06</td>\n",
       "    </tr>\n",
       "    <tr>\n",
       "      <th>0.025</th>\n",
       "      <td>-0.000016</td>\n",
       "      <td>-0.000018</td>\n",
       "      <td>-0.003086</td>\n",
       "      <td>-0.1523</td>\n",
       "      <td>-0.000038</td>\n",
       "      <td>12.39</td>\n",
       "      <td>2.000975e+06</td>\n",
       "    </tr>\n",
       "    <tr>\n",
       "      <th>0.050</th>\n",
       "      <td>-0.000350</td>\n",
       "      <td>-0.000270</td>\n",
       "      <td>-0.007558</td>\n",
       "      <td>-0.1564</td>\n",
       "      <td>-0.000169</td>\n",
       "      <td>12.36</td>\n",
       "      <td>1.946367e+06</td>\n",
       "    </tr>\n",
       "    <tr>\n",
       "      <th>0.075</th>\n",
       "      <td>-0.000428</td>\n",
       "      <td>-0.000420</td>\n",
       "      <td>-0.011200</td>\n",
       "      <td>-0.1630</td>\n",
       "      <td>-0.000405</td>\n",
       "      <td>12.33</td>\n",
       "      <td>1.823175e+06</td>\n",
       "    </tr>\n",
       "    <tr>\n",
       "      <th>0.100</th>\n",
       "      <td>-0.000651</td>\n",
       "      <td>-0.000641</td>\n",
       "      <td>-0.015510</td>\n",
       "      <td>-0.1638</td>\n",
       "      <td>-0.000737</td>\n",
       "      <td>12.30</td>\n",
       "      <td>1.680081e+06</td>\n",
       "    </tr>\n",
       "  </tbody>\n",
       "</table>\n",
       "</div>"
      ],
      "text/plain": [
       "       Surge Vel  Heave Vel  Pitch Vel  Pitch Accel     Pitch  Windspeed  \\\n",
       "Time                                                                       \n",
       "0.000   0.000000   0.000000   0.000000      -0.1227  0.000000      12.42   \n",
       "0.025  -0.000016  -0.000018  -0.003086      -0.1523 -0.000038      12.39   \n",
       "0.050  -0.000350  -0.000270  -0.007558      -0.1564 -0.000169      12.36   \n",
       "0.075  -0.000428  -0.000420  -0.011200      -0.1630 -0.000405      12.33   \n",
       "0.100  -0.000651  -0.000641  -0.015510      -0.1638 -0.000737      12.30   \n",
       "\n",
       "             Thrust  \n",
       "Time                 \n",
       "0.000  2.386844e+06  \n",
       "0.025  2.000975e+06  \n",
       "0.050  1.946367e+06  \n",
       "0.075  1.823175e+06  \n",
       "0.100  1.680081e+06  "
      ]
     },
     "execution_count": 3,
     "metadata": {},
     "output_type": "execute_result"
    }
   ],
   "source": [
    "df_new.head()"
   ]
  },
  {
   "cell_type": "code",
   "execution_count": 4,
   "metadata": {},
   "outputs": [],
   "source": [
    "windSpeed = df_new['Windspeed'].values\n",
    "nacelleAcc = df_new['Pitch Accel'].values\n",
    "pitchVel = df_new['Pitch Vel'].values\n",
    "surgeVel = df_new['Surge Vel'].values\n",
    "heaveVel = df_new['Heave Vel'].values\n",
    "theta_5 = df_new['Pitch'].values"
   ]
  },
  {
   "cell_type": "code",
   "execution_count": 5,
   "metadata": {},
   "outputs": [],
   "source": [
    "df_new['WS_MA_1_min'] = df_new['Windspeed'].rolling(window=40*60).mean()\n",
    "df_new['WS_MA_10_sec'] = df_new['Windspeed'].rolling(window=400).mean()\n",
    "df_new['WS_MA_1_sec'] = df_new['Windspeed'].rolling(window=40).mean()\n",
    "# since we are using moving averages, the first minute of data is unavailable\n",
    "maxLag = 60*40"
   ]
  },
  {
   "cell_type": "markdown",
   "metadata": {},
   "source": [
    "Windspeed regimes are:\n",
    "* Regime 1: U < 7\n",
    "* Regime 2: 7 < U < 9.5\n",
    "* Regime 3: 9.5 < U < 11\n",
    "* Regime 4: U > 11\n",
    "\n",
    "<br>\n",
    "We are not interested in Regime 1"
   ]
  },
  {
   "cell_type": "code",
   "execution_count": 6,
   "metadata": {},
   "outputs": [],
   "source": [
    "# define a feature that relates to the change in windspeed\n",
    "df_new['delta WS'] = np.zeros((len(df_new)))\n",
    "# lagged comparison to moving average\n",
    "df_new['delta WS'] = df_new['WS_MA_1_sec'] - df_new['WS_MA_10_sec']\n",
    "\n",
    "# add flags to windspeed change dependent on regime\n",
    "# R2\n",
    "test = df_new['delta WS'].values.copy()\n",
    "test[np.where(df_new['WS_MA_1_sec']>9.5)[0]] = 0\n",
    "df_new['delta WS R2'] = test\n",
    "# R3\n",
    "test = df_new['delta WS'].values.copy()\n",
    "test[np.where(df_new['WS_MA_1_sec']<=9.5)[0]] = 0\n",
    "test[np.where(df_new['WS_MA_1_sec']>11)[0]] = 0\n",
    "df_new['delta WS R3'] = test\n",
    "# R4\n",
    "test = df_new['delta WS'].values.copy()\n",
    "test[np.where(df_new['WS_MA_1_sec']<=11)[0]] = 0\n",
    "df_new['delta WS R4'] = test"
   ]
  },
  {
   "cell_type": "code",
   "execution_count": 7,
   "metadata": {},
   "outputs": [],
   "source": [
    "# thrust is always the target value for prediction\n",
    "thrust = df_new['Thrust'].values"
   ]
  },
  {
   "cell_type": "code",
   "execution_count": 8,
   "metadata": {},
   "outputs": [],
   "source": [
    "features = np.zeros((len(df_new)-maxLag,60*40+1+15))\n",
    "# now there are features for 15 features defined in the cell below and 2401 previous timesteps\n",
    "\n",
    "# difference in windspeed for different regimes\n",
    "features[:,0] = df_new['delta WS R2'].values[maxLag:]\n",
    "features[:,1] = df_new['delta WS R3'].values[maxLag:]\n",
    "features[:,2] = df_new['delta WS R4'].values[maxLag:]\n",
    "\n",
    "# average rel windspeed for last 1 min\n",
    "features[:,3] = df_new['WS_MA_1_min'].values[maxLag:]\n",
    "# average rel windspeed for last 10 sec\n",
    "features[:,4] = df_new['WS_MA_10_sec'].values[maxLag:]\n",
    "# average rel windspeed for last 1 sec\n",
    "features[:,5] = df_new['WS_MA_1_sec'].values[maxLag:]\n",
    "# nacelle acceleration (degs^-2)\n",
    "features[:,6] = df_new['Pitch Accel'].values[maxLag:]\n",
    "# nacelle velocity (degs^-1)\n",
    "features[:,7] = pitchVel[maxLag:]\n",
    "# heave velocity (ms^-1)\n",
    "features[:,8] = heaveVel[maxLag:]\n",
    "# surge velocity (ms^-1)\n",
    "features[:,9] = surgeVel[maxLag:]\n",
    "# pitch position (deg)\n",
    "features[:,10] = theta_5[maxLag:]\n",
    "\n",
    "# 1 sec moving average windspeed by regime\n",
    "test = df_new['WS_MA_1_sec'].values[maxLag:].copy()\n",
    "test[np.where(df_new['WS_MA_1_sec'].iloc[maxLag:]>9.5)[0]] = 0\n",
    "features[:,11] = test\n",
    "test = df_new['WS_MA_1_sec'].values[maxLag:].copy()\n",
    "test[np.where(df_new['WS_MA_1_sec'].iloc[maxLag:]<=9.5)[0]]=0\n",
    "test[np.where(df_new['WS_MA_1_sec'].iloc[maxLag:]>11)[0]] = 0\n",
    "features[:,12] = test\n",
    "test = df_new['WS_MA_1_sec'].values[maxLag:].copy()\n",
    "test[np.where(df_new['WS_MA_1_sec'].iloc[maxLag:]<=11)[0]] = 0\n",
    "features[:,13] = test\n",
    "\n",
    "# 1 sec moving average windspeed\n",
    "features[:,14] = df_new['delta WS'].values[maxLag:]"
   ]
  },
  {
   "cell_type": "code",
   "execution_count": 9,
   "metadata": {},
   "outputs": [],
   "source": [
    "# add in the previous timesteps\n",
    "for j in range(len(features)):\n",
    "    features[j,15:] = windSpeed[j:j+1+maxLag]"
   ]
  },
  {
   "cell_type": "markdown",
   "metadata": {},
   "source": [
    "The OpenFAST file used is 150 mins long\n",
    "* first 90 minutes is allocated for training\n",
    "* minutes 90-120 are allocated for validation\n",
    "* minutes 120-150 are allocated for testing"
   ]
  },
  {
   "cell_type": "code",
   "execution_count": 10,
   "metadata": {},
   "outputs": [],
   "source": [
    "# the sampling frequency is 40 Hz\n",
    "startTrain = 0\n",
    "startValidate = 90*60*40 - maxLag\n",
    "startTest = 120*60*40 - maxLag\n",
    "endTest = 150*60*40 - maxLag\n",
    "\n",
    "# remember that the features is missing the first minute due to the 1 min moving average\n",
    "yData = thrust[maxLag:endTest+maxLag]\n",
    "\n",
    "# allocate the data for testing \n",
    "trainingFeatures = features[0:startValidate]\n",
    "validateFeatures = features[startValidate:startTest]\n",
    "testingFeatures = features[startTest:endTest]\n",
    "\n",
    "yDataTrain = yData[0:startValidate]\n",
    "yDataValidate = yData[startValidate:startTest]\n",
    "yDataTest = yData[startTest:endTest]"
   ]
  },
  {
   "cell_type": "code",
   "execution_count": 11,
   "metadata": {},
   "outputs": [],
   "source": [
    "# tidying up a little\n",
    "del features\n",
    "del yData"
   ]
  },
  {
   "cell_type": "code",
   "execution_count": 12,
   "metadata": {},
   "outputs": [],
   "source": [
    "# # get parameters for scaling\n",
    "# colMax = np.max(trainingFeatures,0);\n",
    "# colMin = np.min(trainingFeatures,0);\n",
    "# colRange = colMax-colMin;\n",
    "\n",
    "# # save the scaling factor\n",
    "# array = np.zeros((2416,2))\n",
    "# array[:,0] = colMin\n",
    "# array[:,1] = colRange\n",
    "# # np.savetxt('scaling.csv', array, delimiter=',')"
   ]
  },
  {
   "cell_type": "code",
   "execution_count": 13,
   "metadata": {},
   "outputs": [],
   "source": [
    "# # scale the data\n",
    "# scaler = MinMaxScaler()\n",
    "# trainingFeatures = scaler.fit_transform(trainingFeatures)\n",
    "# validateFeatures = scaler.transform(validateFeatures)\n",
    "# testingFeatures = scaler.transform(testingFeatures)\n",
    "\n",
    "# the transform for the data is\n",
    "# for j in range(len(trainingFeatures)):\n",
    "#     trainingFeatures[j] = (trainingFeatures[j] - scalerMat[:,0])/scalerMat[:,1]"
   ]
  },
  {
   "cell_type": "code",
   "execution_count": 14,
   "metadata": {},
   "outputs": [],
   "source": [
    "### MLR surrogate model"
   ]
  },
  {
   "cell_type": "code",
   "execution_count": 15,
   "metadata": {},
   "outputs": [
    {
     "name": "stdout",
     "output_type": "stream",
     "text": [
      "elapsed time = 83.164811\n"
     ]
    }
   ],
   "source": [
    "t = time.time()\n",
    "MLR1 = linear_model.LinearRegression(fit_intercept=True)\n",
    "# this first line initialises the model and specifies the options \n",
    "# we only use fit intercept and keep the rest default\n",
    "MLR1.fit(trainingFeatures, yDataTrain)\n",
    "# train the model\n",
    "coefMLR1 = MLR1.coef_\n",
    "deltaT = time.time()-t\n",
    "print('elapsed time = %f'%deltaT)"
   ]
  },
  {
   "cell_type": "code",
   "execution_count": 16,
   "metadata": {},
   "outputs": [],
   "source": [
    "# this is the predicted load\n",
    "trainingMLR1 = MLR1.predict(trainingFeatures)\n",
    "validateMLR1 = MLR1.predict(validateFeatures)"
   ]
  },
  {
   "cell_type": "code",
   "execution_count": null,
   "metadata": {},
   "outputs": [],
   "source": []
  },
  {
   "cell_type": "markdown",
   "metadata": {},
   "source": [
    "## Neural Net surrogate model"
   ]
  },
  {
   "cell_type": "code",
   "execution_count": 33,
   "metadata": {},
   "outputs": [],
   "source": [
    "# create and fit Multilayer Perceptron model\n",
    "NN1 = Sequential()\n",
    "# first hidden layer, input_dim must equal the number of inputs\n",
    "NN1.add(Dense(units=15, input_dim=np.shape(trainingFeatures)[1], activation='relu'))\n",
    "# second hidden layer\n",
    "NN1.add(Dense(units=15, activation='relu'))\n",
    "# third hidden layer\n",
    "NN1.add(Dense(units=15, activation='relu'))\n",
    "# fourth hidden layer\n",
    "NN1.add(Dense(units=15, activation='relu'))\n",
    "# fifth hidden layer\n",
    "NN1.add(Dense(units=15, activation='relu'))\n",
    "\n",
    "# output layer\n",
    "NN1.add(Dense(units=1))\n",
    "NN1.compile(loss='mean_squared_error', optimizer='adam')"
   ]
  },
  {
   "cell_type": "code",
   "execution_count": 34,
   "metadata": {},
   "outputs": [],
   "source": [
    "class PlotLearning(callbacks.Callback):\n",
    "    \"\"\"\n",
    "    Callback to plot the learning curves of the model during training.\n",
    "    \"\"\"\n",
    "    def on_train_begin(self, logs={}):\n",
    "        self.metrics = {}\n",
    "        for metric in logs:\n",
    "            self.metrics[metric] = []\n",
    "            \n",
    "    def on_epoch_end(self, epoch, logs={}):\n",
    "        # Storing metrics\n",
    "        for metric in logs:\n",
    "            if metric in self.metrics:\n",
    "                self.metrics[metric].append(logs.get(metric))\n",
    "            else:\n",
    "                self.metrics[metric] = [logs.get(metric)]\n",
    "        \n",
    "        # Plotting\n",
    "        metrics = [x for x in logs if 'val' not in x]\n",
    "        f, axs = plt.subplots(1, len(metrics), figsize=(15,5))\n",
    "        clear_output(wait=True)\n",
    "\n",
    "        for i, metric in enumerate(metrics):\n",
    "            axs.plot(range(1, epoch + 2), \n",
    "                        self.metrics[metric], \n",
    "                        label=metric)         \n",
    "            axs.legend()\n",
    "            axs.grid()\n",
    "\n",
    "        plt.tight_layout()\n",
    "        plt.show()\n",
    "callbacks_list = [PlotLearning()]"
   ]
  },
  {
   "cell_type": "code",
   "execution_count": 35,
   "metadata": {
    "scrolled": true
   },
   "outputs": [
    {
     "data": {
      "image/png": "[encoded data removed]",
      "text/plain": [
       "<Figure size 1500x500 with 1 Axes>"
      ]
     },
     "metadata": {},
     "output_type": "display_data"
    },
    {
     "name": "stdout",
     "output_type": "stream",
     "text": [
      "\b\b\b\b\b\b\b\b\b\b\b\b\b\b\b\b\b\b\b\b\b\b\b\b\b\b\b\b\b\b\b\b\b\b\b\b\b\b\b\b\b\b\b\b\b\b\b\b\b\b\b\b\b\b\b\b\b\b\b\b\b\b\b\b\b\b\b\b\b\b\b\b\b\b\b\b\r",
      "2136/2136 [==============================] - 2s 836us/step - loss: 9129783296.0000\n"
     ]
    }
   ],
   "source": [
    "history_1 = NN1.fit(trainingFeatures, yDataTrain, epochs=200, batch_size=100, verbose=1, callbacks=callbacks_list)"
   ]
  },
  {
   "cell_type": "code",
   "execution_count": 36,
   "metadata": {},
   "outputs": [],
   "source": [
    "# fig = plt.figure(figsize=(5,2))\n",
    "# ax1 = fig.add_subplot(121)\n",
    "# ax1.plot(history_1.history['loss'])\n",
    "# ax1.set_title('model loss')\n",
    "# ax1.set_ylabel('loss')\n",
    "# ax1.set_xlabel('epoch')\n",
    "# plt.legend(['train'], loc='upper left')"
   ]
  },
  {
   "cell_type": "code",
   "execution_count": 37,
   "metadata": {},
   "outputs": [
    {
     "name": "stdout",
     "output_type": "stream",
     "text": [
      "6675/6675 [==============================] - 2s 260us/step\n",
      "2250/2250 [==============================] - 1s 269us/step\n"
     ]
    }
   ],
   "source": [
    "# # create arrays with the predictions for the training and testing set\n",
    "trainingNN1 = NN1.predict(trainingFeatures)\n",
    "validateNN1 = NN1.predict(validateFeatures)\n",
    "trainingNN1 = trainingNN1.flatten()\n",
    "validateNN1 = validateNN1.flatten()"
   ]
  },
  {
   "cell_type": "markdown",
   "metadata": {},
   "source": [
    "### Error metrics"
   ]
  },
  {
   "cell_type": "code",
   "execution_count": 38,
   "metadata": {},
   "outputs": [
    {
     "name": "stdout",
     "output_type": "stream",
     "text": [
      "The training MAPE is 5.82\n",
      "The validate MAPE is 5.88\n"
     ]
    }
   ],
   "source": [
    "# MLR MAPEs\n",
    "MLR1TrainMAPE = 100*np.mean( np.abs((trainingMLR1-yDataTrain)/yDataTrain) )\n",
    "MLR1ValidateMAPE = 100*np.mean( np.abs((validateMLR1-yDataValidate)/yDataValidate) )\n",
    "print('The training MAPE is %.2f'%MLR1TrainMAPE)\n",
    "print('The validate MAPE is %.2f'%MLR1ValidateMAPE)"
   ]
  },
  {
   "cell_type": "code",
   "execution_count": 39,
   "metadata": {},
   "outputs": [],
   "source": [
    "meanthrust = np.mean(thrust[startTrain:startValidate])"
   ]
  },
  {
   "cell_type": "code",
   "execution_count": 40,
   "metadata": {},
   "outputs": [
    {
     "name": "stdout",
     "output_type": "stream",
     "text": [
      "The training MAE/ mean thrust is 5.39\n",
      "The validate MAE/ mean thrust is 5.71\n"
     ]
    }
   ],
   "source": [
    "MLR1TrainMAE = np.mean( np.abs((trainingMLR1-yDataTrain)) )\n",
    "MLR1ValidateMAE = np.mean( np.abs((validateMLR1-yDataValidate)) )\n",
    "print('The training MAE/ mean thrust is %.2f'%(100*MLR1TrainMAE/meanthrust))\n",
    "print('The validate MAE/ mean thrust is %.2f'%(100*MLR1ValidateMAE/meanthrust))"
   ]
  },
  {
   "cell_type": "code",
   "execution_count": 41,
   "metadata": {},
   "outputs": [
    {
     "name": "stdout",
     "output_type": "stream",
     "text": [
      "The training MAPE is 4.40\n",
      "The validate MAPE is 4.44\n"
     ]
    }
   ],
   "source": [
    "NN1TrainMAPE = 100*np.mean( np.abs((trainingNN1-yDataTrain)/yDataTrain) )\n",
    "NN1ValidateMAPE = 100*np.mean( np.abs((validateNN1-yDataValidate)/yDataValidate) )\n",
    "print('The training MAPE is %.2f'%NN1TrainMAPE)\n",
    "print('The validate MAPE is %.2f'%NN1ValidateMAPE)"
   ]
  },
  {
   "cell_type": "code",
   "execution_count": 42,
   "metadata": {},
   "outputs": [
    {
     "name": "stdout",
     "output_type": "stream",
     "text": [
      "The training MAE/ mean thrust is 4.16\n",
      "The validate MAE/ mean thrust is 4.38\n"
     ]
    }
   ],
   "source": [
    "NN1TrainMAE = np.mean( np.abs((trainingNN1-yDataTrain)) )\n",
    "NN1ValidateMAE = np.mean( np.abs((validateNN1-yDataValidate)) )\n",
    "\n",
    "print('The training MAE/ mean thrust is %.2f'%(100*NN1TrainMAE/meanthrust))\n",
    "print('The validate MAE/ mean thrust is %.2f'%(100*NN1ValidateMAE/meanthrust))"
   ]
  },
  {
   "cell_type": "code",
   "execution_count": 43,
   "metadata": {},
   "outputs": [
    {
     "data": {
      "image/png": "[encoded data removed]",
      "text/plain": [
       "<Figure size 800x300 with 2 Axes>"
      ]
     },
     "metadata": {},
     "output_type": "display_data"
    }
   ],
   "source": [
    "colors = sns.color_palette()\n",
    "\n",
    "fig, (ax1, ax2) = plt.subplots(nrows=2, sharex=True)\n",
    "fig.set_size_inches(8,3)\n",
    "ax1.plot(df_new['Thrust'].iloc[maxLag:maxLag+startTest], label='Observed', color='k', linestyle='-');\n",
    "ax1.plot(df_new.index.to_numpy()[maxLag:maxLag+startValidate], trainingMLR1, label='MLR fit', linewidth=1, color=colors[0]);\n",
    "ax1.plot(df_new.index.to_numpy()[maxLag+startValidate:maxLag+startTest], validateMLR1, label='MLR validate', linewidth=1, color=colors[1]);\n",
    "ax1.set_ylabel('Thrust (N)');\n",
    "ax1.set_ylim([0E6,3.5E6])\n",
    "ax1.legend(fontsize=8, loc='upper center', ncol=3, handletextpad=0.1, columnspacing=0.3);\n",
    "ax1.set_yticks(np.arange(0E6,3.5E6,2E5), minor=True);\n",
    "\n",
    "\n",
    "ax2.plot(df_new['Thrust'].iloc[maxLag:maxLag+startTest], label='Observed', color='k', linestyle='-');\n",
    "ax2.plot(df_new.index.to_numpy()[maxLag:maxLag+startValidate], trainingNN1, label='NN fit', linewidth=1, color=colors[2]);\n",
    "ax2.plot(df_new.index.to_numpy()[maxLag+startValidate:maxLag+startTest], validateNN1, label='NN validate', linewidth=1, color=colors[3]);\n",
    "# look at a portion of the training and validation\n",
    "ax2.set_xlim([5100,5700]) \n",
    "ax2.set_ylabel('Thrust (N)');\n",
    "ax2.set_ylim([0E6,3.5E6])\n",
    "ax2.legend(fontsize=8, loc='upper center', ncol=3, handletextpad=0.1, columnspacing=0.3);\n",
    "ax2.set_xticks(np.arange(5100,5700,100));\n",
    "ax2.set_xticks(np.arange(5100,5700,20), minor=True);\n",
    "ax2.set_yticks(np.arange(0E6,3.5E6,2E5), minor=True);\n",
    "fig.tight_layout()"
   ]
  },
  {
   "cell_type": "code",
   "execution_count": 51,
   "metadata": {},
   "outputs": [
    {
     "name": "stdout",
     "output_type": "stream",
     "text": [
      "R2 value for MLR train is 0.879\n",
      "R2 value for MLR validate is 0.851\n",
      "R2 value for NN train is 0.926\n",
      "R2 value for NN validate 0.907\n"
     ]
    }
   ],
   "source": [
    "coefficient_of_determination = r2_score(yDataTrain, trainingMLR1)\n",
    "print('R2 value for MLR train is %.3f'%coefficient_of_determination)\n",
    "coefficient_of_determination = r2_score(yDataValidate, validateMLR1)\n",
    "print('R2 value for MLR validate is %.3f'%coefficient_of_determination)\n",
    "coefficient_of_determination = r2_score(yDataTrain, trainingNN1)\n",
    "print('R2 value for NN train is %.3f'%coefficient_of_determination)\n",
    "coefficient_of_determination = r2_score(yDataValidate, validateNN1)\n",
    "print('R2 value for NN validate %.3f'%coefficient_of_determination)"
   ]
  },
  {
   "cell_type": "code",
   "execution_count": null,
   "metadata": {},
   "outputs": [],
   "source": []
  },
  {
   "cell_type": "code",
   "execution_count": 52,
   "metadata": {},
   "outputs": [],
   "source": [
    "# # serialize model to JSON\n",
    "# NN1_json = NN1.to_json()\n",
    "# with open(\"NN1.json\", \"w\") as json_file:\n",
    "#     json_file.write(NN1_json)\n",
    "# # serialize weights to HDF5\n",
    "# NN1.save_weights(\"NN1_weights.h5\")\n",
    "# print(\"Saved model to disk\")"
   ]
  },
  {
   "cell_type": "code",
   "execution_count": 53,
   "metadata": {},
   "outputs": [],
   "source": [
    "Weights = NN1.get_weights()\n",
    "Biases = [Weights[x] for x in [1,3,5,7,9,11]]\n",
    "Weights = [Weights[x] for x in [0,2,4,6,8,10]]"
   ]
  },
  {
   "cell_type": "code",
   "execution_count": 54,
   "metadata": {},
   "outputs": [],
   "source": [
    "# # save the biases:\n",
    "# for j,b in enumerate(Biases):\n",
    "#     fName = 'Layer_%d'%(j+1)+'_Biases.csv'\n",
    "#     np.savetxt(fName, b, fmt='%.18e', delimiter=',')\n",
    "    \n",
    "# # save the weights:\n",
    "# for j,W in enumerate(Weights):\n",
    "#     fName = 'Layer_%d'%(j+1)+'_Weights.csv'\n",
    "#     np.savetxt(fName, W, fmt='%.18e', delimiter=',')\n",
    "\n",
    "# # Load the weights and biases\n",
    "# Biases = []\n",
    "# for j in range(6):\n",
    "#     fName = 'Layer_%d'%(j+1)+'_Biases.csv'\n",
    "#     b = np.genfromtxt(fName, delimiter=',')\n",
    "#     Biases.append(b)\n",
    "    \n",
    "# Weights = []\n",
    "# for j in range(6):\n",
    "#     fName = 'Layer_%d'%(j+1)+'_Weights.csv'\n",
    "#     W = np.genfromtxt(fName, delimiter=',')\n",
    "#     Weights.append(W)"
   ]
  },
  {
   "cell_type": "code",
   "execution_count": 55,
   "metadata": {},
   "outputs": [],
   "source": [
    "# rebuilding the NN with the weights and biases\n",
    "\n",
    "def ReLU(u):\n",
    "    u[u<0] = 0\n",
    "    return u\n",
    "\n",
    "def NN_thrust(data, Weights, Biases):\n",
    "    # first layer\n",
    "    u1 = np.matmul(Weights[0].T,data)+Biases[0].reshape(15,1)\n",
    "    y1 = ReLU(u1)\n",
    "    # second layer\n",
    "    u2 = np.matmul(Weights[1].T,y1)+Biases[1].reshape(15,1)\n",
    "    y2 = ReLU(u2)\n",
    "    # third layer\n",
    "    u3 = np.matmul(Weights[2].T,y2)+Biases[2].reshape(15,1)\n",
    "    y3 = ReLU(u3)\n",
    "    # fourth layer\n",
    "    u4 = np.matmul(Weights[3].T,y3)+Biases[3].reshape(15,1)\n",
    "    y4 = ReLU(u4)\n",
    "    # fifth layer\n",
    "    u5 = np.matmul(Weights[4].T,y4)+Biases[4].reshape(15,1)\n",
    "    y5 = ReLU(u5)\n",
    "    # output\n",
    "    u6 = np.matmul(Weights[5].T,y5)+Biases[5]\n",
    "    return u6"
   ]
  },
  {
   "cell_type": "code",
   "execution_count": 56,
   "metadata": {},
   "outputs": [
    {
     "name": "stdout",
     "output_type": "stream",
     "text": [
      "The training MAE/ mean thrust is 4.16\n",
      "The testing MAE/ mean thrust is 4.38\n"
     ]
    }
   ],
   "source": [
    "# verification we get the same results!\n",
    "\n",
    "# trainingFeatures = (trainingFeatures - colMin)/colRange    \n",
    "thrustNNFit = np.zeros((len(trainingFeatures)))\n",
    "for j in range(len(trainingFeatures)):\n",
    "    thrustNNFit[j] = NN_thrust(trainingFeatures[j].reshape(2416,1), Weights, Biases)[0][0]\n",
    "\n",
    "# testingFeatures = (testingFeatures - colMin)/colRange    \n",
    "thrustNNPredict = np.zeros((len(validateFeatures)))\n",
    "for j in range(len(testingFeatures)):\n",
    "    thrustNNPredict[j] = NN_thrust(validateFeatures[j].reshape(2416,1), Weights, Biases)[0][0]\n",
    "\n",
    "NN1TrainMAE = np.mean( np.abs((thrustNNFit-yDataTrain)) )\n",
    "NN1ValidateMAE = np.mean( np.abs((thrustNNPredict-yDataValidate)) )\n",
    "\n",
    "print('The training MAE/ mean thrust is %.2f'%(100*NN1TrainMAE/meanthrust))\n",
    "print('The testing MAE/ mean thrust is %.2f'%(100*NN1ValidateMAE/meanthrust))"
   ]
  },
  {
   "cell_type": "code",
   "execution_count": null,
   "metadata": {},
   "outputs": [],
   "source": []
  },
  {
   "cell_type": "code",
   "execution_count": null,
   "metadata": {},
   "outputs": [],
   "source": []
  }
 ],
 "metadata": {
  "kernelspec": {
   "display_name": "Data_Analysis",
   "language": "python",
   "name": "data_analysis"
  },
  "language_info": {
   "codemirror_mode": {
    "name": "ipython",
    "version": 3
   },
   "file_extension": ".py",
   "mimetype": "text/x-python",
   "name": "python",
   "nbconvert_exporter": "python",
   "pygments_lexer": "ipython3",
   "version": "3.11.4"
  }
 },
 "nbformat": 4,
 "nbformat_minor": 2
}
